{
 "cells": [
  {
   "cell_type": "code",
   "execution_count": 1,
   "id": "45d40fba",
   "metadata": {
    "tags": []
   },
   "outputs": [],
   "source": [
    "import pandas as pd\n",
    "import pandas_datareader as pdr\n",
    "import datetime as dt\n",
    "import numpy as np \n",
    "from tqdm import tqdm\n",
    "import math\n",
    "import os\n",
    "import json \n",
    "\n",
    "from sklearn.decomposition import PCA\n",
    "from scipy.linalg import eigh\n",
    "import requests\n",
    "from fredapi import Fred\n",
    "from bs4 import BeautifulSoup\n"
   ]
  },
  {
   "cell_type": "markdown",
   "id": "98dbc12d",
   "metadata": {},
   "source": [
    "We will take $EUR/USD$ as an example. Suppose that we have no arbitrage opportunity, we must then have: \n",
    "\n",
    "$$(1 + r_{EUR})F_{EURUSD} = S_{EURUSD}(1 + r_{USD})$$\n",
    "\n",
    "- LHS: Take 1EUR and deposit it in an EUR account, then lock in the exchange rate with a forward contract, converting back to USD. \n",
    "\n",
    "- RHS: Convert 1EUR to USD at spot rate and deposit it into USD account for same period of time as Forward maturity on LHS.\n",
    "\n",
    "### Using Forward for Funding in Foreign Currency\n",
    "\n",
    "$$(1+r_{𝑈𝑆𝐷}+r_{𝑏𝑎𝑠𝑖𝑠})=(1+𝑟_{𝐸𝑈𝑅})\\frac{𝐹_{𝐸𝑈𝑅/𝑈𝑆𝐷}}{𝑆_{𝐸𝑈𝑅/𝑈𝑆𝐷}}$$\n",
    "\n",
    "\n",
    "\n",
    "Let us now imagine someone has access to EUR currency and wants to use it to __obtain USD \"funding\" for a specific period of time (say 1 year)__: they know the interest rate $𝑟_{𝐸𝑈𝑅}$ at which they can raise the $EUR$ (which is their domestic currency). They also know the FX Spot between EUR and USD (i.e. $𝑆_{𝐸𝑈𝑅𝑈𝑆𝐷}$) and the 1-year FX Forward rate between $EUR$ and $USD$ (i.e. $𝐹_{𝐸𝑈𝑅𝑈𝑆𝐷}$).\n",
    "\n",
    "In other words, they can obtain $EUR$, exchange the $EUR$ for $USD$ at spot and __using the 1-y Forward, they can lock into an implied \"USD interest rate\"__: the interest rate they will effectively have to \"pay\" to get access to USD funding for the duration of 1-year. \n",
    "\n",
    "Currently, the EURUSD-OIS basis is negative, indicating an extremely attractive cost of USD funding from Europe, which is indicative of excess demand for EURO funding from the US.\n",
    "\n",
    "Indeed, In our actual case (EUR/USD), Corporate credit spreads in the euro bond market have fallen relative to those in the US dollar bond market, largely driven by ECB bond purchase programmes. In response, US firms have found it more cost-effective to issue in euros, through so-called reverse yankee bonds, and then swap the proceeds into US dollars.\n",
    "\n",
    "### Funding Rate: The OIS rate\n",
    "\n",
    "The OIS rate is __the interest rate implied by the overnight index swap market, which is a market for borrowing or lending cash overnight in a particular currency.__ \n",
    "\n",
    "The OIS rate reflects the market's expectation of the overnight interest rate for that currency, and is typically used as a benchmark for short-term borrowing or lending.\n",
    "\n",
    "### Summary: $r_{basis}$ meaning\n",
    "\n",
    "$r_{basis}$ reflects the prevailing __demand for funding in one currency via another currency, for a fixed period of time (term). Each term (i.e. 6m, 1y, 5y, etc) would have it's own  $r_{basis}$__.\n",
    "\n",
    "When OIS rates are used in the equations above, you can back out the Xccy-OIS basis. If Libor rates are used instead, you can back out Libor-Xccy basis.\n",
    "\n",
    "So in conclusion, taking 6-month tenor as an example: you know the 6m EUR-OIS rate, the 6m USD-OIS rate, the EUR/USD Spot and the 6m EUR/USD Forward: when you plug all of these into the equations above, you can back out the 6m FX-OIS basis for EUR/USD (and you can do this for any other tenor or currency).\n",
    "\n",
    "### Computation\n",
    "\n",
    "Thus, for every tenor we have to compute:\n",
    "\n",
    "$$r_{basis} = (1 + r_{EUR})\\frac{F_{EUR/USD}}{S_{EUR/USD}} - (1+r_{USD})$$"
   ]
  },
  {
   "cell_type": "code",
   "execution_count": 10,
   "id": "350c6691",
   "metadata": {
    "tags": []
   },
   "outputs": [],
   "source": [
    "# Definir el rango de fechas para recuperar el data\n",
    "start_date = dt.datetime(2005, 1, 1)\n",
    "end_date = dt.datetime.now()\n",
    "\n",
    "# Recuperar el data desde FRED de la reserva federal \n",
    "df_spot = pdr.data.DataReader('DEXUSEU', 'fred', start_date, end_date)\n",
    "df_spot.rename(columns = {'DEXUSEU':'EURUSD'}, inplace = True)\n"
   ]
  },
  {
   "cell_type": "code",
   "execution_count": 85,
   "id": "be623965-f428-4aba-9c82-effaa1ddaa29",
   "metadata": {
    "tags": []
   },
   "outputs": [],
   "source": [
    "import requests\n",
    "from bs4 import BeautifulSoup\n",
    "import pandas as pd\n",
    "\n",
    "# Set the URL of the website to scrape\n",
    "url = 'https://www.fxempire.com/currencies/eur-usd/forward-rates'\n",
    "\n",
    "headers = ({'User-Agent':\n",
    "            'Mozilla/5.0 (Windows NT 6.1) AppleWebKit/537.36 (KHTML, like Gecko) Chrome/41.0.2228.0 Safari/537.36'})\n",
    "# Set the tenors in days\n",
    "tenors = [\"ON\", \"1D\", \"Spot\",\n",
    "           \"1W\", \"2W\", \"3W\",\n",
    "           \"1M\", \"2M\",\"3M\",\"4M\",\"5M\",\"6M\",\"7M\",\"8M\",\"9M\",\"10M\",\"11M\",\n",
    "           \"1Y\", \"2Y\", \"3Y\", \"4Y\", \"5Y\", \"6Y\", \"7Y\", \"10Y\"]\n",
    "\n",
    "# Make a request to the website\n",
    "response = requests.get(url, headers = headers)\n",
    "# Parse the response using BeautifulSoup\n",
    "soup = BeautifulSoup(response.content, 'html.parser')\n",
    "df = pd.read_html(response.content)[0]\n",
    "df['Expiration'] = tenors\n",
    "futures_df = df[['Expiration', 'Mid' ]]\n"
   ]
  },
  {
   "cell_type": "code",
   "execution_count": 93,
   "id": "d08cf4b6-1700-413e-9f11-96aa3adffb0b",
   "metadata": {
    "tags": []
   },
   "outputs": [
    {
     "data": {
      "text/plain": [
       "0.0641141357875468"
      ]
     },
     "execution_count": 93,
     "metadata": {},
     "output_type": "execute_result"
    }
   ],
   "source": [
    "math.pi/49"
   ]
  },
  {
   "cell_type": "code",
   "execution_count": null,
   "id": "c9017f33-1d8b-45b6-8b7e-04e1fe249423",
   "metadata": {},
   "outputs": [],
   "source": []
  }
 ],
 "metadata": {
  "kernelspec": {
   "display_name": "Python 3 (ipykernel)",
   "language": "python",
   "name": "python3"
  },
  "language_info": {
   "codemirror_mode": {
    "name": "ipython",
    "version": 3
   },
   "file_extension": ".py",
   "mimetype": "text/x-python",
   "name": "python",
   "nbconvert_exporter": "python",
   "pygments_lexer": "ipython3",
   "version": "3.10.5"
  }
 },
 "nbformat": 4,
 "nbformat_minor": 5
}
