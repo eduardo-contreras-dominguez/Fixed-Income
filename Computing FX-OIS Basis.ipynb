{
 "cells": [
  {
   "cell_type": "markdown",
   "id": "98dbc12d",
   "metadata": {},
   "source": [
    "We will take $EUR/USD$ as an example. Suppose that we have no arbitrage opportunity, we must then have: \n",
    "\n",
    "$$(1 + r_{EUR})F_{EURUSD} = S_{EURUSD}(1 + r_{USD})$$\n",
    "\n",
    "- LHS: Take 1EUR and deposit it in an EUR account, then lock in the exchange rate with a forward contract, converting back to USD. \n",
    "\n",
    "- RHS: Convert 1EUR to USD at spot rate and deposit it into USD account for same period of time as Forward maturity on LHS.\n",
    "\n",
    "### Using Forward for Funding in Foreign Currency\n",
    "\n",
    "Let us now imagine someone has access to EUR currency and wants to use it to __obtain USD \"funding\" for a specific period of time (say 1 year)__: they know the interest rate $𝑟_{𝐸𝑈𝑅}$ at which they can raise the $EUR$ (which is their domestic currency). They also know the FX Spot between EUR and USD (i.e. $𝑆_{𝐸𝑈𝑅𝑈𝑆𝐷}$) and the 1-year FX Forward rate between $EUR$ and $USD$ (i.e. $𝐹_{𝐸𝑈𝑅𝑈𝑆𝐷}$).\n",
    "\n",
    "In other words, they can obtain $EUR$, exchange the $EUR$ for $USD$ at spot and __using the 1-y Forward, they can lock into an implied \"USD interest rate\"__: the interest rate they will effectively have to \"pay\" to get access to USD funding for the duration of 1-year. \n",
    "\n",
    "Currently, the EURUSD-OIS basis is negative, indicating an extremely attractive cost of USD funding from Europe, which is indicative of excess demand for EURO funding from the US.\n",
    "\n",
    "Indeed, In our actual case (EUR/USD), Corporate credit spreads in the euro bond market have fallen relative to those in the US dollar bond market, largely driven by ECB bond purchase programmes. In response, US firms have found it more cost-effective to issue in euros, through so-called reverse yankee bonds, and then swap the proceeds into US dollars (right-hand panel) "
   ]
  },
  {
   "cell_type": "code",
   "execution_count": null,
   "id": "45d40fba",
   "metadata": {},
   "outputs": [],
   "source": []
  }
 ],
 "metadata": {
  "kernelspec": {
   "display_name": "Python 3 (ipykernel)",
   "language": "python",
   "name": "python3"
  },
  "language_info": {
   "codemirror_mode": {
    "name": "ipython",
    "version": 3
   },
   "file_extension": ".py",
   "mimetype": "text/x-python",
   "name": "python",
   "nbconvert_exporter": "python",
   "pygments_lexer": "ipython3",
   "version": "3.10.5"
  }
 },
 "nbformat": 4,
 "nbformat_minor": 5
}
